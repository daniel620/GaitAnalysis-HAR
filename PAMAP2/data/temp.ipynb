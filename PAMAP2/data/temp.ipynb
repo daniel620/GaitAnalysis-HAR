{
 "cells": [
  {
   "cell_type": "code",
   "execution_count": 1,
   "metadata": {},
   "outputs": [
    {
     "ename": "TypeError",
     "evalue": "'tuple' object is not callable",
     "output_type": "error",
     "traceback": [
      "\u001b[0;31m---------------------------------------------------------------------------\u001b[0m",
      "\u001b[0;31mTypeError\u001b[0m                                 Traceback (most recent call last)",
      "\u001b[1;32m/Users/kuzaowuwei/Documents/GitHub/JHU-Gait-Watch-HAR/data/PAMAP2/test.ipynb Cell 1\u001b[0m in \u001b[0;36m<module>\u001b[0;34m\u001b[0m\n\u001b[1;32m      <a href='vscode-notebook-cell:/Users/kuzaowuwei/Documents/GitHub/JHU-Gait-Watch-HAR/data/PAMAP2/test.ipynb#W0sZmlsZQ%3D%3D?line=0'>1</a>\u001b[0m \u001b[39mimport\u001b[39;00m \u001b[39mpandas\u001b[39;00m \u001b[39mas\u001b[39;00m \u001b[39mpd\u001b[39;00m\n\u001b[1;32m      <a href='vscode-notebook-cell:/Users/kuzaowuwei/Documents/GitHub/JHU-Gait-Watch-HAR/data/PAMAP2/test.ipynb#W0sZmlsZQ%3D%3D?line=2'>3</a>\u001b[0m df \u001b[39m=\u001b[39m pd\u001b[39m.\u001b[39mread_csv(\u001b[39m'\u001b[39m\u001b[39mCleanedData.csv\u001b[39m\u001b[39m'\u001b[39m)\n\u001b[0;32m----> <a href='vscode-notebook-cell:/Users/kuzaowuwei/Documents/GitHub/JHU-Gait-Watch-HAR/data/PAMAP2/test.ipynb#W0sZmlsZQ%3D%3D?line=4'>5</a>\u001b[0m df\u001b[39m.\u001b[39;49mshape()\n",
      "\u001b[0;31mTypeError\u001b[0m: 'tuple' object is not callable"
     ]
    }
   ],
   "source": [
    "import pandas as pd\n",
    "\n",
    "df = pd.read_csv('CleanedData.csv')\n",
    "\n"
   ]
  },
  {
   "cell_type": "code",
   "execution_count": 2,
   "metadata": {},
   "outputs": [
    {
     "data": {
      "text/plain": [
       "(904602, 16)"
      ]
     },
     "execution_count": 2,
     "metadata": {},
     "output_type": "execute_result"
    }
   ],
   "source": [
    "df.shape"
   ]
  },
  {
   "cell_type": "code",
   "execution_count": 4,
   "metadata": {},
   "outputs": [
    {
     "name": "stdout",
     "output_type": "stream",
     "text": [
      "<class 'pandas.core.frame.DataFrame'>\n",
      "RangeIndex: 904602 entries, 0 to 904601\n",
      "Data columns (total 16 columns):\n",
      " #   Column       Non-Null Count   Dtype  \n",
      "---  ------       --------------   -----  \n",
      " 0   timestamp    904602 non-null  float64\n",
      " 1   activityID   904602 non-null  int64  \n",
      " 2   heartrate    904602 non-null  float64\n",
      " 3   handAcc16_1  904602 non-null  float64\n",
      " 4   handAcc16_2  904602 non-null  float64\n",
      " 5   handAcc16_3  904602 non-null  float64\n",
      " 6   handAcc6_1   904602 non-null  float64\n",
      " 7   handAcc6_2   904602 non-null  float64\n",
      " 8   handAcc6_3   904602 non-null  float64\n",
      " 9   handGyro1    904602 non-null  float64\n",
      " 10  handGyro2    904602 non-null  float64\n",
      " 11  handGyro3    904602 non-null  float64\n",
      " 12  handMagne1   904602 non-null  float64\n",
      " 13  handMagne2   904602 non-null  float64\n",
      " 14  handMagne3   904602 non-null  float64\n",
      " 15  subject_id   904602 non-null  int64  \n",
      "dtypes: float64(14), int64(2)\n",
      "memory usage: 110.4 MB\n"
     ]
    }
   ],
   "source": [
    "df.info()"
   ]
  },
  {
   "cell_type": "code",
   "execution_count": null,
   "metadata": {},
   "outputs": [],
   "source": []
  }
 ],
 "metadata": {
  "kernelspec": {
   "display_name": "Python 3.8.12 ('py4tf')",
   "language": "python",
   "name": "python3"
  },
  "language_info": {
   "codemirror_mode": {
    "name": "ipython",
    "version": 3
   },
   "file_extension": ".py",
   "mimetype": "text/x-python",
   "name": "python",
   "nbconvert_exporter": "python",
   "pygments_lexer": "ipython3",
   "version": "3.8.12"
  },
  "orig_nbformat": 4,
  "vscode": {
   "interpreter": {
    "hash": "571121258990c3076cccab8cdb8a1b847cf35af00b003ed76f2ada50f9eb31f3"
   }
  }
 },
 "nbformat": 4,
 "nbformat_minor": 2
}
